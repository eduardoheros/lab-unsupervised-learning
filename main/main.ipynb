{
  "nbformat": 4,
  "nbformat_minor": 0,
  "metadata": {
    "kernelspec": {
      "display_name": "Python 3",
      "language": "python",
      "name": "python3"
    },
    "language_info": {
      "codemirror_mode": {
        "name": "ipython",
        "version": 3
      },
      "file_extension": ".py",
      "mimetype": "text/x-python",
      "name": "python",
      "nbconvert_exporter": "python",
      "pygments_lexer": "ipython3",
      "version": "3.7.3"
    },
    "colab": {
      "name": "main.ipynb",
      "provenance": []
    }
  },
  "cells": [
    {
      "cell_type": "markdown",
      "metadata": {
        "id": "C_rVwHTYp5Gr",
        "colab_type": "text"
      },
      "source": [
        "# Before your start:\n",
        "- Read the README.md file\n",
        "- Comment as much as you can and use the resources in the README.md file\n",
        "- Happy learning!"
      ]
    },
    {
      "cell_type": "code",
      "metadata": {
        "id": "QGdUl6Z8p5Gs",
        "colab_type": "code",
        "colab": {
          "base_uri": "https://localhost:8080/",
          "height": 51
        },
        "outputId": "1bf1bef7-6057-46ae-91c5-ec7bc82cab25"
      },
      "source": [
        "# Import your libraries:\n",
        "\n",
        "%matplotlib inline\n",
        "\n",
        "import matplotlib.pyplot as plt\n",
        "import numpy as np\n",
        "import pandas as pd\n",
        "import seaborn as sns"
      ],
      "execution_count": 1,
      "outputs": [
        {
          "output_type": "stream",
          "text": [
            "/usr/local/lib/python3.6/dist-packages/statsmodels/tools/_testing.py:19: FutureWarning: pandas.util.testing is deprecated. Use the functions in the public API at pandas.testing instead.\n",
            "  import pandas.util.testing as tm\n"
          ],
          "name": "stderr"
        }
      ]
    },
    {
      "cell_type": "markdown",
      "metadata": {
        "id": "wSG27je3p5Gy",
        "colab_type": "text"
      },
      "source": [
        "# Challenge 1 - Import and Describe the Dataset\n",
        "\n",
        "In this lab, we will use a dataset containing information about customer preferences. We will look at how much each customer spends in a year on each subcategory in the grocery store and try to find similarities using clustering.\n",
        "\n",
        "The origin of the dataset is [here](https://archive.ics.uci.edu/ml/datasets/wholesale+customers)."
      ]
    },
    {
      "cell_type": "code",
      "metadata": {
        "id": "rcgkum5Dp5Gz",
        "colab_type": "code",
        "colab": {}
      },
      "source": [
        "# loading the data:\n",
        "customers = pd.read_csv(\"https://archive.ics.uci.edu/ml/machine-learning-databases/00292/Wholesale%20customers%20data.csv\")"
      ],
      "execution_count": 2,
      "outputs": []
    },
    {
      "cell_type": "markdown",
      "metadata": {
        "id": "0HIDgyXOp5G2",
        "colab_type": "text"
      },
      "source": [
        "#### Explore the dataset with mathematical and visualization techniques. What do you find?\n",
        "\n",
        "Checklist:\n",
        "\n",
        "* What does each column mean?\n",
        "* Any categorical data to convert?\n",
        "* Any missing data to remove?\n",
        "* Column collinearity - any high correlations?\n",
        "* Descriptive statistics - any outliers to remove?\n",
        "* Column-wise data distribution - is the distribution skewed?\n",
        "* Etc.\n",
        "\n",
        "Additional info: Over a century ago, an Italian economist named Vilfredo Pareto discovered that roughly 20% of the customers account for 80% of the typical retail sales. This is called the [Pareto principle](https://en.wikipedia.org/wiki/Pareto_principle). Check if this dataset displays this characteristic."
      ]
    },
    {
      "cell_type": "code",
      "metadata": {
        "id": "wR3WNVBqp5G3",
        "colab_type": "code",
        "colab": {
          "base_uri": "https://localhost:8080/",
          "height": 204
        },
        "outputId": "4befaf25-54bb-4ed3-b6ca-164f566208a5"
      },
      "source": [
        "customers.head()"
      ],
      "execution_count": 3,
      "outputs": [
        {
          "output_type": "execute_result",
          "data": {
            "text/html": [
              "<div>\n",
              "<style scoped>\n",
              "    .dataframe tbody tr th:only-of-type {\n",
              "        vertical-align: middle;\n",
              "    }\n",
              "\n",
              "    .dataframe tbody tr th {\n",
              "        vertical-align: top;\n",
              "    }\n",
              "\n",
              "    .dataframe thead th {\n",
              "        text-align: right;\n",
              "    }\n",
              "</style>\n",
              "<table border=\"1\" class=\"dataframe\">\n",
              "  <thead>\n",
              "    <tr style=\"text-align: right;\">\n",
              "      <th></th>\n",
              "      <th>Channel</th>\n",
              "      <th>Region</th>\n",
              "      <th>Fresh</th>\n",
              "      <th>Milk</th>\n",
              "      <th>Grocery</th>\n",
              "      <th>Frozen</th>\n",
              "      <th>Detergents_Paper</th>\n",
              "      <th>Delicassen</th>\n",
              "    </tr>\n",
              "  </thead>\n",
              "  <tbody>\n",
              "    <tr>\n",
              "      <th>0</th>\n",
              "      <td>2</td>\n",
              "      <td>3</td>\n",
              "      <td>12669</td>\n",
              "      <td>9656</td>\n",
              "      <td>7561</td>\n",
              "      <td>214</td>\n",
              "      <td>2674</td>\n",
              "      <td>1338</td>\n",
              "    </tr>\n",
              "    <tr>\n",
              "      <th>1</th>\n",
              "      <td>2</td>\n",
              "      <td>3</td>\n",
              "      <td>7057</td>\n",
              "      <td>9810</td>\n",
              "      <td>9568</td>\n",
              "      <td>1762</td>\n",
              "      <td>3293</td>\n",
              "      <td>1776</td>\n",
              "    </tr>\n",
              "    <tr>\n",
              "      <th>2</th>\n",
              "      <td>2</td>\n",
              "      <td>3</td>\n",
              "      <td>6353</td>\n",
              "      <td>8808</td>\n",
              "      <td>7684</td>\n",
              "      <td>2405</td>\n",
              "      <td>3516</td>\n",
              "      <td>7844</td>\n",
              "    </tr>\n",
              "    <tr>\n",
              "      <th>3</th>\n",
              "      <td>1</td>\n",
              "      <td>3</td>\n",
              "      <td>13265</td>\n",
              "      <td>1196</td>\n",
              "      <td>4221</td>\n",
              "      <td>6404</td>\n",
              "      <td>507</td>\n",
              "      <td>1788</td>\n",
              "    </tr>\n",
              "    <tr>\n",
              "      <th>4</th>\n",
              "      <td>2</td>\n",
              "      <td>3</td>\n",
              "      <td>22615</td>\n",
              "      <td>5410</td>\n",
              "      <td>7198</td>\n",
              "      <td>3915</td>\n",
              "      <td>1777</td>\n",
              "      <td>5185</td>\n",
              "    </tr>\n",
              "  </tbody>\n",
              "</table>\n",
              "</div>"
            ],
            "text/plain": [
              "   Channel  Region  Fresh  Milk  Grocery  Frozen  Detergents_Paper  Delicassen\n",
              "0        2       3  12669  9656     7561     214              2674        1338\n",
              "1        2       3   7057  9810     9568    1762              3293        1776\n",
              "2        2       3   6353  8808     7684    2405              3516        7844\n",
              "3        1       3  13265  1196     4221    6404               507        1788\n",
              "4        2       3  22615  5410     7198    3915              1777        5185"
            ]
          },
          "metadata": {
            "tags": []
          },
          "execution_count": 3
        }
      ]
    },
    {
      "cell_type": "code",
      "metadata": {
        "id": "HvDclob7r1Sw",
        "colab_type": "code",
        "colab": {
          "base_uri": "https://localhost:8080/",
          "height": 297
        },
        "outputId": "41c30d3f-60d6-497d-b80d-fa88fe6cc584"
      },
      "source": [
        "customers.iloc[:,2:].describe()"
      ],
      "execution_count": 4,
      "outputs": [
        {
          "output_type": "execute_result",
          "data": {
            "text/html": [
              "<div>\n",
              "<style scoped>\n",
              "    .dataframe tbody tr th:only-of-type {\n",
              "        vertical-align: middle;\n",
              "    }\n",
              "\n",
              "    .dataframe tbody tr th {\n",
              "        vertical-align: top;\n",
              "    }\n",
              "\n",
              "    .dataframe thead th {\n",
              "        text-align: right;\n",
              "    }\n",
              "</style>\n",
              "<table border=\"1\" class=\"dataframe\">\n",
              "  <thead>\n",
              "    <tr style=\"text-align: right;\">\n",
              "      <th></th>\n",
              "      <th>Fresh</th>\n",
              "      <th>Milk</th>\n",
              "      <th>Grocery</th>\n",
              "      <th>Frozen</th>\n",
              "      <th>Detergents_Paper</th>\n",
              "      <th>Delicassen</th>\n",
              "    </tr>\n",
              "  </thead>\n",
              "  <tbody>\n",
              "    <tr>\n",
              "      <th>count</th>\n",
              "      <td>440.000000</td>\n",
              "      <td>440.000000</td>\n",
              "      <td>440.000000</td>\n",
              "      <td>440.000000</td>\n",
              "      <td>440.000000</td>\n",
              "      <td>440.000000</td>\n",
              "    </tr>\n",
              "    <tr>\n",
              "      <th>mean</th>\n",
              "      <td>12000.297727</td>\n",
              "      <td>5796.265909</td>\n",
              "      <td>7951.277273</td>\n",
              "      <td>3071.931818</td>\n",
              "      <td>2881.493182</td>\n",
              "      <td>1524.870455</td>\n",
              "    </tr>\n",
              "    <tr>\n",
              "      <th>std</th>\n",
              "      <td>12647.328865</td>\n",
              "      <td>7380.377175</td>\n",
              "      <td>9503.162829</td>\n",
              "      <td>4854.673333</td>\n",
              "      <td>4767.854448</td>\n",
              "      <td>2820.105937</td>\n",
              "    </tr>\n",
              "    <tr>\n",
              "      <th>min</th>\n",
              "      <td>3.000000</td>\n",
              "      <td>55.000000</td>\n",
              "      <td>3.000000</td>\n",
              "      <td>25.000000</td>\n",
              "      <td>3.000000</td>\n",
              "      <td>3.000000</td>\n",
              "    </tr>\n",
              "    <tr>\n",
              "      <th>25%</th>\n",
              "      <td>3127.750000</td>\n",
              "      <td>1533.000000</td>\n",
              "      <td>2153.000000</td>\n",
              "      <td>742.250000</td>\n",
              "      <td>256.750000</td>\n",
              "      <td>408.250000</td>\n",
              "    </tr>\n",
              "    <tr>\n",
              "      <th>50%</th>\n",
              "      <td>8504.000000</td>\n",
              "      <td>3627.000000</td>\n",
              "      <td>4755.500000</td>\n",
              "      <td>1526.000000</td>\n",
              "      <td>816.500000</td>\n",
              "      <td>965.500000</td>\n",
              "    </tr>\n",
              "    <tr>\n",
              "      <th>75%</th>\n",
              "      <td>16933.750000</td>\n",
              "      <td>7190.250000</td>\n",
              "      <td>10655.750000</td>\n",
              "      <td>3554.250000</td>\n",
              "      <td>3922.000000</td>\n",
              "      <td>1820.250000</td>\n",
              "    </tr>\n",
              "    <tr>\n",
              "      <th>max</th>\n",
              "      <td>112151.000000</td>\n",
              "      <td>73498.000000</td>\n",
              "      <td>92780.000000</td>\n",
              "      <td>60869.000000</td>\n",
              "      <td>40827.000000</td>\n",
              "      <td>47943.000000</td>\n",
              "    </tr>\n",
              "  </tbody>\n",
              "</table>\n",
              "</div>"
            ],
            "text/plain": [
              "               Fresh          Milk  ...  Detergents_Paper    Delicassen\n",
              "count     440.000000    440.000000  ...        440.000000    440.000000\n",
              "mean    12000.297727   5796.265909  ...       2881.493182   1524.870455\n",
              "std     12647.328865   7380.377175  ...       4767.854448   2820.105937\n",
              "min         3.000000     55.000000  ...          3.000000      3.000000\n",
              "25%      3127.750000   1533.000000  ...        256.750000    408.250000\n",
              "50%      8504.000000   3627.000000  ...        816.500000    965.500000\n",
              "75%     16933.750000   7190.250000  ...       3922.000000   1820.250000\n",
              "max    112151.000000  73498.000000  ...      40827.000000  47943.000000\n",
              "\n",
              "[8 rows x 6 columns]"
            ]
          },
          "metadata": {
            "tags": []
          },
          "execution_count": 4
        }
      ]
    },
    {
      "cell_type": "code",
      "metadata": {
        "id": "c7Zr81QSsGRO",
        "colab_type": "code",
        "colab": {
          "base_uri": "https://localhost:8080/",
          "height": 34
        },
        "outputId": "6bab221a-b31a-42d1-c847-c0150277f16d"
      },
      "source": [
        "customers.Channel.unique()"
      ],
      "execution_count": 5,
      "outputs": [
        {
          "output_type": "execute_result",
          "data": {
            "text/plain": [
              "array([2, 1])"
            ]
          },
          "metadata": {
            "tags": []
          },
          "execution_count": 5
        }
      ]
    },
    {
      "cell_type": "code",
      "metadata": {
        "id": "NAD6yzivsL8w",
        "colab_type": "code",
        "colab": {
          "base_uri": "https://localhost:8080/",
          "height": 34
        },
        "outputId": "d1da3277-ac32-4c41-ae43-bf3059355f98"
      },
      "source": [
        "customers.Region.unique()"
      ],
      "execution_count": 6,
      "outputs": [
        {
          "output_type": "execute_result",
          "data": {
            "text/plain": [
              "array([3, 1, 2])"
            ]
          },
          "metadata": {
            "tags": []
          },
          "execution_count": 6
        }
      ]
    },
    {
      "cell_type": "code",
      "metadata": {
        "id": "FEc5kFPDp5G7",
        "colab_type": "code",
        "colab": {
          "base_uri": "https://localhost:8080/",
          "height": 272
        },
        "outputId": "da172755-9f8d-4cbe-ef56-301a73793fc9"
      },
      "source": [
        "customers.info()"
      ],
      "execution_count": 7,
      "outputs": [
        {
          "output_type": "stream",
          "text": [
            "<class 'pandas.core.frame.DataFrame'>\n",
            "RangeIndex: 440 entries, 0 to 439\n",
            "Data columns (total 8 columns):\n",
            " #   Column            Non-Null Count  Dtype\n",
            "---  ------            --------------  -----\n",
            " 0   Channel           440 non-null    int64\n",
            " 1   Region            440 non-null    int64\n",
            " 2   Fresh             440 non-null    int64\n",
            " 3   Milk              440 non-null    int64\n",
            " 4   Grocery           440 non-null    int64\n",
            " 5   Frozen            440 non-null    int64\n",
            " 6   Detergents_Paper  440 non-null    int64\n",
            " 7   Delicassen        440 non-null    int64\n",
            "dtypes: int64(8)\n",
            "memory usage: 27.6 KB\n"
          ],
          "name": "stdout"
        }
      ]
    },
    {
      "cell_type": "code",
      "metadata": {
        "id": "Chei0IawstrR",
        "colab_type": "code",
        "colab": {
          "base_uri": "https://localhost:8080/",
          "height": 609
        },
        "outputId": "c706290c-e785-4695-f065-548f3c837198"
      },
      "source": [
        "plt.style.use(\"ggplot\")\n",
        "plt.figure(figsize=(10,10))\n",
        "plt.title(\"Correlaciones\")\n",
        "customer_corr=customers.iloc[:,2:].corr()\n",
        "mask=np.triu(np.ones_like(customer_corr,dtype=np.bool))\n",
        "sns.heatmap(customer_corr.iloc[1:,:-1],mask=mask[1:,:-1],cmap=\"coolwarm\",annot=True,cbar=False);"
      ],
      "execution_count": 8,
      "outputs": [
        {
          "output_type": "display_data",
          "data": {
            "image/png": "[encoded data removed]",
            "text/plain": [
              "<Figure size 720x720 with 1 Axes>"
            ]
          },
          "metadata": {
            "tags": []
          }
        }
      ]
    },
    {
      "cell_type": "code",
      "metadata": {
        "id": "NBt95EevzrsO",
        "colab_type": "code",
        "colab": {
          "base_uri": "https://localhost:8080/",
          "height": 609
        },
        "outputId": "d8e36ecd-5078-44a8-b462-c5d205d61a9f"
      },
      "source": [
        "plt.figure(figsize=(10*1.618,10))\n",
        "plt.title(\"Outliers\")\n",
        "customers.iloc[:,2:].boxplot(whis=3);"
      ],
      "execution_count": 9,
      "outputs": [
        {
          "output_type": "display_data",
          "data": {
            "image/png": "[encoded data removed]",
            "text/plain": [
              "<Figure size 1164.96x720 with 1 Axes>"
            ]
          },
          "metadata": {
            "tags": []
          }
        }
      ]
    },
    {
      "cell_type": "code",
      "metadata": {
        "id": "NIXfV1z9zr3H",
        "colab_type": "code",
        "colab": {
          "base_uri": "https://localhost:8080/",
          "height": 609
        },
        "outputId": "127b038b-59e8-4780-917d-96b6c21854dd"
      },
      "source": [
        "customers.hist(figsize=(10*1.618,10));"
      ],
      "execution_count": 10,
      "outputs": [
        {
          "output_type": "display_data",
          "data": {
            "image/png": "[encoded data removed]",
            "text/plain": [
              "<Figure size 1164.96x720 with 9 Axes>"
            ]
          },
          "metadata": {
            "tags": []
          }
        }
      ]
    },
    {
      "cell_type": "markdown",
      "metadata": {
        "id": "cqPq5NwEp5G-",
        "colab_type": "text"
      },
      "source": [
        "# Challenge 2 - Data Cleaning and Transformation\n",
        "\n",
        "If your conclusion from the previous challenge is the data need cleaning/transformation, do it in the cells below. However, if your conclusion is the data need not be cleaned or transformed, feel free to skip this challenge. But if you do choose the latter, please provide rationale."
      ]
    },
    {
      "cell_type": "code",
      "metadata": {
        "id": "xcFklzx2zsCF",
        "colab_type": "code",
        "colab": {}
      },
      "source": [
        "Q1=customers.iloc[:,2:].quantile(0.25)\n",
        "Q3=customers.iloc[:,2:].quantile(0.75)\n",
        "IQR=Q3-Q1\n",
        "top=IQR+3*Q1\n",
        "bottom=IQR-3*Q3"
      ],
      "execution_count": 11,
      "outputs": []
    },
    {
      "cell_type": "code",
      "metadata": {
        "id": "e2Ed2N_rADfQ",
        "colab_type": "code",
        "colab": {}
      },
      "source": [
        "for i in customers.iloc[:,2:].columns:\n",
        "  customers.loc[(customers[i]>top[i]) | (customers[i]<bottom[i]), i] = np.nan"
      ],
      "execution_count": 12,
      "outputs": []
    },
    {
      "cell_type": "code",
      "metadata": {
        "id": "W_4jh4g9CA0n",
        "colab_type": "code",
        "colab": {
          "base_uri": "https://localhost:8080/",
          "height": 609
        },
        "outputId": "b1787028-fe23-4b60-f3bf-8dfa69746aac"
      },
      "source": [
        "plt.figure(figsize=(10*1.618,10))\n",
        "plt.title(\"Outliers\")\n",
        "customers.iloc[:,2:].boxplot(whis=3);"
      ],
      "execution_count": 13,
      "outputs": [
        {
          "output_type": "display_data",
          "data": {
            "image/png": "[encoded data removed]",
            "text/plain": [
              "<Figure size 1164.96x720 with 1 Axes>"
            ]
          },
          "metadata": {
            "tags": []
          }
        }
      ]
    },
    {
      "cell_type": "code",
      "metadata": {
        "id": "0QvLiQHRKEu7",
        "colab_type": "code",
        "colab": {
          "base_uri": "https://localhost:8080/",
          "height": 609
        },
        "outputId": "9095945b-3a1c-4675-8949-47638fd679b5"
      },
      "source": [
        "customers.hist(figsize=(10*1.618,10));"
      ],
      "execution_count": 14,
      "outputs": [
        {
          "output_type": "display_data",
          "data": {
            "image/png": "[encoded data removed]",
            "text/plain": [
              "<Figure size 1164.96x720 with 9 Axes>"
            ]
          },
          "metadata": {
            "tags": []
          }
        }
      ]
    },
    {
      "cell_type": "code",
      "metadata": {
        "id": "THbtwXXsDj_2",
        "colab_type": "code",
        "colab": {
          "base_uri": "https://localhost:8080/",
          "height": 272
        },
        "outputId": "26c83300-441f-461c-d928-59e0b7420126"
      },
      "source": [
        "customers.info()"
      ],
      "execution_count": 15,
      "outputs": [
        {
          "output_type": "stream",
          "text": [
            "<class 'pandas.core.frame.DataFrame'>\n",
            "RangeIndex: 440 entries, 0 to 439\n",
            "Data columns (total 8 columns):\n",
            " #   Column            Non-Null Count  Dtype  \n",
            "---  ------            --------------  -----  \n",
            " 0   Channel           440 non-null    int64  \n",
            " 1   Region            440 non-null    int64  \n",
            " 2   Fresh             380 non-null    float64\n",
            " 3   Milk              375 non-null    float64\n",
            " 4   Grocery           377 non-null    float64\n",
            " 5   Frozen            363 non-null    float64\n",
            " 6   Detergents_Paper  344 non-null    float64\n",
            " 7   Delicassen        384 non-null    float64\n",
            "dtypes: float64(6), int64(2)\n",
            "memory usage: 27.6 KB\n"
          ],
          "name": "stdout"
        }
      ]
    },
    {
      "cell_type": "code",
      "metadata": {
        "id": "TDvOQQIvKt4A",
        "colab_type": "code",
        "colab": {}
      },
      "source": [
        "customers.dropna(inplace=True)"
      ],
      "execution_count": 16,
      "outputs": []
    },
    {
      "cell_type": "code",
      "metadata": {
        "id": "xgS-mWNjKzSG",
        "colab_type": "code",
        "colab": {
          "base_uri": "https://localhost:8080/",
          "height": 272
        },
        "outputId": "7da97d7d-916c-4520-85a3-043ea5649008"
      },
      "source": [
        "customers.info()"
      ],
      "execution_count": 17,
      "outputs": [
        {
          "output_type": "stream",
          "text": [
            "<class 'pandas.core.frame.DataFrame'>\n",
            "Int64Index: 215 entries, 0 to 439\n",
            "Data columns (total 8 columns):\n",
            " #   Column            Non-Null Count  Dtype  \n",
            "---  ------            --------------  -----  \n",
            " 0   Channel           215 non-null    int64  \n",
            " 1   Region            215 non-null    int64  \n",
            " 2   Fresh             215 non-null    float64\n",
            " 3   Milk              215 non-null    float64\n",
            " 4   Grocery           215 non-null    float64\n",
            " 5   Frozen            215 non-null    float64\n",
            " 6   Detergents_Paper  215 non-null    float64\n",
            " 7   Delicassen        215 non-null    float64\n",
            "dtypes: float64(6), int64(2)\n",
            "memory usage: 15.1 KB\n"
          ],
          "name": "stdout"
        }
      ]
    },
    {
      "cell_type": "code",
      "metadata": {
        "id": "FrMTrS6cLBKx",
        "colab_type": "code",
        "colab": {
          "base_uri": "https://localhost:8080/",
          "height": 609
        },
        "outputId": "1385554b-36a9-4f0b-c710-05cbbc69bafe"
      },
      "source": [
        "plt.style.use(\"ggplot\")\n",
        "plt.figure(figsize=(10,10))\n",
        "plt.title(\"Correlaciones\")\n",
        "customer_corr=customers.iloc[:,2:].corr()\n",
        "mask=np.triu(np.ones_like(customer_corr,dtype=np.bool))\n",
        "sns.heatmap(customer_corr.iloc[1:,:-1],mask=mask[1:,:-1],cmap=\"coolwarm\",annot=True,cbar=False);"
      ],
      "execution_count": 18,
      "outputs": [
        {
          "output_type": "display_data",
          "data": {
            "image/png": "[encoded data removed]",
            "text/plain": [
              "<Figure size 720x720 with 1 Axes>"
            ]
          },
          "metadata": {
            "tags": []
          }
        }
      ]
    },
    {
      "cell_type": "code",
      "metadata": {
        "id": "CnFr6Xd1LIDk",
        "colab_type": "code",
        "colab": {}
      },
      "source": [
        "customers.drop(columns=\"Grocery\",inplace=True)"
      ],
      "execution_count": 19,
      "outputs": []
    },
    {
      "cell_type": "code",
      "metadata": {
        "id": "yzVXb7y0LQ74",
        "colab_type": "code",
        "colab": {
          "base_uri": "https://localhost:8080/",
          "height": 609
        },
        "outputId": "4eb34b91-3ea5-48de-e468-09571889c284"
      },
      "source": [
        "plt.style.use(\"ggplot\")\n",
        "plt.figure(figsize=(10,10))\n",
        "plt.title(\"Correlaciones\")\n",
        "customer_corr=customers.iloc[:,2:].corr()\n",
        "mask=np.triu(np.ones_like(customer_corr,dtype=np.bool))\n",
        "sns.heatmap(customer_corr.iloc[1:,:-1],mask=mask[1:,:-1],cmap=\"coolwarm\",annot=True,cbar=False);"
      ],
      "execution_count": 20,
      "outputs": [
        {
          "output_type": "display_data",
          "data": {
            "image/png": "[encoded data removed]",
            "text/plain": [
              "<Figure size 720x720 with 1 Axes>"
            ]
          },
          "metadata": {
            "tags": []
          }
        }
      ]
    },
    {
      "cell_type": "markdown",
      "metadata": {
        "id": "iPgYCQFqp5HG",
        "colab_type": "text"
      },
      "source": [
        "# Challenge 3 - Data Preprocessing\n",
        "\n",
        "One problem with the dataset is the value ranges are remarkably different across various categories (e.g. `Fresh` and `Grocery` compared to `Detergents_Paper` and `Delicassen`). If you made this observation in the first challenge, you've done a great job! This means you not only completed the bonus questions in the previous Supervised Learning lab but also researched deep into [*feature scaling*](https://en.wikipedia.org/wiki/Feature_scaling). Keep on the good work!\n",
        "\n",
        "Diverse value ranges in different features could cause issues in our clustering. The way to reduce the problem is through feature scaling. We'll use this technique again with this dataset.\n",
        "\n",
        "#### We will use the `StandardScaler` from `sklearn.preprocessing` and scale our data. Read more about `StandardScaler` [here](https://scikit-learn.org/stable/modules/generated/sklearn.preprocessing.StandardScaler.html#sklearn.preprocessing.StandardScaler).\n",
        "\n",
        "*After scaling your data, assign the transformed data to a new variable `customers_scale`.*"
      ]
    },
    {
      "cell_type": "code",
      "metadata": {
        "id": "_VXjH3xUp5HH",
        "colab_type": "code",
        "colab": {}
      },
      "source": [
        "from sklearn.preprocessing import StandardScaler"
      ],
      "execution_count": 21,
      "outputs": []
    },
    {
      "cell_type": "code",
      "metadata": {
        "id": "t4PpjGFzMZ8w",
        "colab_type": "code",
        "colab": {
          "base_uri": "https://localhost:8080/",
          "height": 204
        },
        "outputId": "8a5ab081-5359-4bf3-b076-6d24a48f4f48"
      },
      "source": [
        "ss = StandardScaler()\n",
        "\n",
        "customers_escalado = pd.DataFrame(ss.fit_transform(customers.iloc[:,2:]),columns=customers.iloc[:,2:].columns)\n",
        "customers_escalado.head()"
      ],
      "execution_count": 27,
      "outputs": [
        {
          "output_type": "execute_result",
          "data": {
            "text/html": [
              "<div>\n",
              "<style scoped>\n",
              "    .dataframe tbody tr th:only-of-type {\n",
              "        vertical-align: middle;\n",
              "    }\n",
              "\n",
              "    .dataframe tbody tr th {\n",
              "        vertical-align: top;\n",
              "    }\n",
              "\n",
              "    .dataframe thead th {\n",
              "        text-align: right;\n",
              "    }\n",
              "</style>\n",
              "<table border=\"1\" class=\"dataframe\">\n",
              "  <thead>\n",
              "    <tr style=\"text-align: right;\">\n",
              "      <th></th>\n",
              "      <th>Fresh</th>\n",
              "      <th>Milk</th>\n",
              "      <th>Frozen</th>\n",
              "      <th>Detergents_Paper</th>\n",
              "      <th>Delicassen</th>\n",
              "    </tr>\n",
              "  </thead>\n",
              "  <tbody>\n",
              "    <tr>\n",
              "      <th>0</th>\n",
              "      <td>0.696148</td>\n",
              "      <td>2.967784</td>\n",
              "      <td>-1.100940</td>\n",
              "      <td>1.293593</td>\n",
              "      <td>0.756527</td>\n",
              "    </tr>\n",
              "    <tr>\n",
              "      <th>1</th>\n",
              "      <td>-0.223832</td>\n",
              "      <td>3.035103</td>\n",
              "      <td>0.195530</td>\n",
              "      <td>1.788443</td>\n",
              "      <td>1.428414</td>\n",
              "    </tr>\n",
              "    <tr>\n",
              "      <th>2</th>\n",
              "      <td>0.162389</td>\n",
              "      <td>2.357105</td>\n",
              "      <td>-0.722384</td>\n",
              "      <td>0.590890</td>\n",
              "      <td>0.929868</td>\n",
              "    </tr>\n",
              "    <tr>\n",
              "      <th>3</th>\n",
              "      <td>0.607134</td>\n",
              "      <td>0.145198</td>\n",
              "      <td>-0.878161</td>\n",
              "      <td>1.666129</td>\n",
              "      <td>-0.459925</td>\n",
              "    </tr>\n",
              "    <tr>\n",
              "      <th>4</th>\n",
              "      <td>-0.138260</td>\n",
              "      <td>0.913246</td>\n",
              "      <td>0.117641</td>\n",
              "      <td>1.810827</td>\n",
              "      <td>2.640265</td>\n",
              "    </tr>\n",
              "  </tbody>\n",
              "</table>\n",
              "</div>"
            ],
            "text/plain": [
              "      Fresh      Milk    Frozen  Detergents_Paper  Delicassen\n",
              "0  0.696148  2.967784 -1.100940          1.293593    0.756527\n",
              "1 -0.223832  3.035103  0.195530          1.788443    1.428414\n",
              "2  0.162389  2.357105 -0.722384          0.590890    0.929868\n",
              "3  0.607134  0.145198 -0.878161          1.666129   -0.459925\n",
              "4 -0.138260  0.913246  0.117641          1.810827    2.640265"
            ]
          },
          "metadata": {
            "tags": []
          },
          "execution_count": 27
        }
      ]
    },
    {
      "cell_type": "markdown",
      "metadata": {
        "id": "vGFltGeOp5HL",
        "colab_type": "text"
      },
      "source": [
        "# Challenge 3 - Data Clustering with K-Means\n",
        "\n",
        "Now let's cluster the data with K-Means first. Initiate the K-Means model, then fit your scaled data. In the data returned from the `.fit` method, there is an attribute called `labels_` which is the cluster number assigned to each data record. What you can do is to assign these labels back to `customers` in a new column called `customers['labels']`. Then you'll see the cluster results of the original data."
      ]
    },
    {
      "cell_type": "code",
      "metadata": {
        "scrolled": true,
        "id": "Q0rgQAYap5HM",
        "colab_type": "code",
        "colab": {}
      },
      "source": [
        "from sklearn.cluster import KMeans\n",
        "model = KMeans()"
      ],
      "execution_count": 29,
      "outputs": []
    },
    {
      "cell_type": "markdown",
      "metadata": {
        "id": "uMtwkCN7p5HO",
        "colab_type": "text"
      },
      "source": [
        "Count the values in `labels`."
      ]
    },
    {
      "cell_type": "code",
      "metadata": {
        "id": "BYEVRUrqp5HP",
        "colab_type": "code",
        "colab": {
          "base_uri": "https://localhost:8080/",
          "height": 170
        },
        "outputId": "3e41cd55-61e8-4e7d-f538-3c2bd12d3dd0"
      },
      "source": [
        "model.fit(customers_escalado)\n",
        "labels = model.labels_\n",
        "customers_escalado['labels'] = labels\n",
        "customers_escalado.labels.value_counts()"
      ],
      "execution_count": 32,
      "outputs": [
        {
          "output_type": "execute_result",
          "data": {
            "text/plain": [
              "0    43\n",
              "7    32\n",
              "1    32\n",
              "2    30\n",
              "3    22\n",
              "5    21\n",
              "4    19\n",
              "6    16\n",
              "Name: labels, dtype: int64"
            ]
          },
          "metadata": {
            "tags": []
          },
          "execution_count": 32
        }
      ]
    },
    {
      "cell_type": "markdown",
      "metadata": {
        "id": "EqKqVo8up5HS",
        "colab_type": "text"
      },
      "source": [
        "# Challenge 4 - Data Clustering with DBSCAN\n",
        "\n",
        "Now let's cluster the data using DBSCAN. Use `DBSCAN(eps=0.5)` to initiate the model, then fit your scaled data. In the data returned from the `.fit` method, assign the `labels_` back to `customers['labels_DBSCAN']`. Now your original data have two labels, one from K-Means and the other from DBSCAN."
      ]
    },
    {
      "cell_type": "code",
      "metadata": {
        "scrolled": true,
        "id": "guKvIQZBp5HT",
        "colab_type": "code",
        "colab": {}
      },
      "source": [
        "# Your code here\n"
      ],
      "execution_count": null,
      "outputs": []
    },
    {
      "cell_type": "markdown",
      "metadata": {
        "id": "aBC_eiC3p5HX",
        "colab_type": "text"
      },
      "source": [
        "Count the values in `labels_DBSCAN`."
      ]
    },
    {
      "cell_type": "code",
      "metadata": {
        "id": "xOvJxIdxp5HX",
        "colab_type": "code",
        "colab": {}
      },
      "source": [
        "# Your code here\n"
      ],
      "execution_count": null,
      "outputs": []
    },
    {
      "cell_type": "markdown",
      "metadata": {
        "id": "5z0ffFUvp5Ha",
        "colab_type": "text"
      },
      "source": [
        "# Challenge 5 - Compare K-Means with DBSCAN\n",
        "\n",
        "Now we want to visually compare how K-Means and DBSCAN have clustered our data. We will create scatter plots for several columns. For each of the following column pairs, plot a scatter plot using `labels` and another using `labels_DBSCAN`. Put them side by side to compare. Which clustering algorithm makes better sense?\n",
        "\n",
        "Columns to visualize:\n",
        "\n",
        "* `Detergents_Paper` as X and `Milk` as y\n",
        "* `Grocery` as X and `Fresh` as y\n",
        "* `Frozen` as X and `Delicassen` as y"
      ]
    },
    {
      "cell_type": "markdown",
      "metadata": {
        "id": "i0xIyKYip5Hb",
        "colab_type": "text"
      },
      "source": [
        "Visualize `Detergents_Paper` as X and `Milk` as y by `labels` and `labels_DBSCAN` respectively"
      ]
    },
    {
      "cell_type": "code",
      "metadata": {
        "id": "aYjKnqsCp5Hc",
        "colab_type": "code",
        "colab": {}
      },
      "source": [
        "# Your code here:\n"
      ],
      "execution_count": null,
      "outputs": []
    },
    {
      "cell_type": "markdown",
      "metadata": {
        "id": "U8lPMqS9p5Hf",
        "colab_type": "text"
      },
      "source": [
        "Visualize `Grocery` as X and `Fresh` as y by `labels` and `labels_DBSCAN` respectively"
      ]
    },
    {
      "cell_type": "code",
      "metadata": {
        "id": "u25Z2PV1p5Hf",
        "colab_type": "code",
        "colab": {}
      },
      "source": [
        "# Your code here:\n"
      ],
      "execution_count": null,
      "outputs": []
    },
    {
      "cell_type": "markdown",
      "metadata": {
        "id": "nF1Y0fcZp5Hk",
        "colab_type": "text"
      },
      "source": [
        "Visualize `Frozen` as X and `Delicassen` as y by `labels` and `labels_DBSCAN` respectively"
      ]
    },
    {
      "cell_type": "code",
      "metadata": {
        "id": "lNj_YFJLp5Hl",
        "colab_type": "code",
        "colab": {}
      },
      "source": [
        "# Your code here:"
      ],
      "execution_count": null,
      "outputs": []
    },
    {
      "cell_type": "markdown",
      "metadata": {
        "id": "yTHl7D9Kp5Hn",
        "colab_type": "text"
      },
      "source": [
        "Let's use a groupby to see how the mean differs between the groups. Group `customers` by `labels` and `labels_DBSCAN` respectively and compute the means for all columns."
      ]
    },
    {
      "cell_type": "code",
      "metadata": {
        "id": "KF2yQWXLp5Ho",
        "colab_type": "code",
        "colab": {}
      },
      "source": [
        "# Your code here:\n"
      ],
      "execution_count": null,
      "outputs": []
    },
    {
      "cell_type": "markdown",
      "metadata": {
        "id": "3dO0_v39p5Hs",
        "colab_type": "text"
      },
      "source": [
        "Which algorithm appears to perform better?"
      ]
    },
    {
      "cell_type": "code",
      "metadata": {
        "id": "Bqe7rXaAp5Hs",
        "colab_type": "code",
        "colab": {}
      },
      "source": [
        "# Your observations here"
      ],
      "execution_count": null,
      "outputs": []
    },
    {
      "cell_type": "markdown",
      "metadata": {
        "id": "8H7PSMhgp5Hv",
        "colab_type": "text"
      },
      "source": [
        "# Bonus Challenge 2 - Changing K-Means Number of Clusters\n",
        "\n",
        "As we mentioned earlier, we don't need to worry about the number of clusters with DBSCAN because it automatically decides that based on the parameters we send to it. But with K-Means, we have to supply the `n_clusters` param (if you don't supply `n_clusters`, the algorithm will use `8` by default). You need to know that the optimal number of clusters differs case by case based on the dataset. K-Means can perform badly if the wrong number of clusters is used.\n",
        "\n",
        "In advanced machine learning, data scientists try different numbers of clusters and evaluate the results with statistical measures (read [here](https://en.wikipedia.org/wiki/Cluster_analysis#External_evaluation)). We are not using statistical measures today but we'll use our eyes instead. In the cells below, experiment with different number of clusters and visualize with scatter plots. What number of clusters seems to work best for K-Means?"
      ]
    },
    {
      "cell_type": "code",
      "metadata": {
        "id": "rShX7x9Ip5Hv",
        "colab_type": "code",
        "colab": {}
      },
      "source": [
        "# Your code here"
      ],
      "execution_count": null,
      "outputs": []
    },
    {
      "cell_type": "code",
      "metadata": {
        "id": "GSNlSq18p5Hy",
        "colab_type": "code",
        "colab": {}
      },
      "source": [
        "# Your comment here"
      ],
      "execution_count": null,
      "outputs": []
    },
    {
      "cell_type": "markdown",
      "metadata": {
        "id": "09_e6UJop5H0",
        "colab_type": "text"
      },
      "source": [
        "# Bonus Challenge 3 - Changing DBSCAN `eps` and `min_samples`\n",
        "\n",
        "Experiment changing the `eps` and `min_samples` params for DBSCAN. See how the results differ with scatter plot visualization."
      ]
    },
    {
      "cell_type": "code",
      "metadata": {
        "id": "5rDF6KgOp5H1",
        "colab_type": "code",
        "colab": {}
      },
      "source": [
        "# Your code here"
      ],
      "execution_count": null,
      "outputs": []
    },
    {
      "cell_type": "code",
      "metadata": {
        "id": "h1qhEsH5p5H3",
        "colab_type": "code",
        "colab": {}
      },
      "source": [
        "# Your comment here"
      ],
      "execution_count": null,
      "outputs": []
    }
  ]
}